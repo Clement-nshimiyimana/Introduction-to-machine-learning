{
 "cells": [
  {
   "cell_type": "code",
   "execution_count": null,
   "metadata": {},
   "outputs": [],
   "source": [
    "import numpy as np\n",
    "import random\n",
    "\n",
    "class Perceptron:\n",
    "    def __ini__(self, learning_rate=0.01, n_iter=1000):\n",
    "        self.learning_rate = learning_rate\n",
    "        self.n_iter = n_iter\n",
    "        self.weights = []\n",
    "    def fit(self, X, y):\n",
    "        num_row, num_features = X.shape\n",
    "        # Randomly initialize the weights\n",
    "        self.weights = np.random.rand(num_features+1)\n",
    "        \n",
    "        # Launch the algorithm\n",
    "        for i in range(self.n_iters):\n",
    "            #stochastic gradient descent\n",
    "            idx = np.randint(0, num_row-1)\n",
    "            row = X[idx,:]\n",
    "            yhat = self.predict(row)\n",
    "            error = y[idx]-yhat\n",
    "            self.weights[0] = self.weights[0]+ self.learning_rate * error\n",
    "            \n",
    "        for fi in range(num_features):\n",
    "            self.weights[fi] = self.weights[fi]+ self.learning_rate * error * row[fi]\n",
    "            \n",
    "        if i% 1000 ==0:\n",
    "            total_error = 0\n",
    "            for idx in range(num_row):\n",
    "                row = X[idx,:]\n",
    "                yhat = self.predict(row)\n",
    "                error = y[idx]-yhat\n",
    "                total_error = total_error + error**2\n",
    "                mean_error = total_error/num_row\n",
    "            print(f\"Iteration {i} at error:{mean_error}\")\n",
    "            \n",
    "    def predict(self, row):\n",
    "        # activation function\n",
    "        activation = self.weights[0]\n",
    "        for weight, feature in zip(self.weights[1:], row):\n",
    "            activation = activation+ weight*feature\n",
    "        if activation >= 0.0:\n",
    "            return 1.0\n",
    "        return 0.0\n",
    "            \n",
    "        "
   ]
  }
 ],
 "metadata": {
  "kernelspec": {
   "display_name": "Python 3",
   "language": "python",
   "name": "python3"
  },
  "language_info": {
   "codemirror_mode": {
    "name": "ipython",
    "version": 3
   },
   "file_extension": ".py",
   "mimetype": "text/x-python",
   "name": "python",
   "nbconvert_exporter": "python",
   "pygments_lexer": "ipython3",
   "version": "3.8.5"
  }
 },
 "nbformat": 4,
 "nbformat_minor": 4
}
