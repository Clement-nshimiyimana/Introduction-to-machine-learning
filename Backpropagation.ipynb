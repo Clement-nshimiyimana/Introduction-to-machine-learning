{
 "cells": [
  {
   "cell_type": "code",
   "execution_count": 1,
   "metadata": {},
   "outputs": [],
   "source": [
    "import torch\n",
    "\n",
    "from torchvision import datasets, transforms as transform\n",
    "\n",
    "import argparse\n",
    "import os\n",
    "from dlc_practical_prologue import *\n",
    "import dlc_practical_prologue as prologue\n"
   ]
  },
  {
   "cell_type": "markdown",
   "metadata": {},
   "source": [
    "Load Data"
   ]
  },
  {
   "cell_type": "code",
   "execution_count": 84,
   "metadata": {},
   "outputs": [],
   "source": [
    "from torchvision.datasets import MNIST\n",
    "\n",
    "\n",
    "train_data = MNIST(root = './', train=True, download=True,)\n",
    "test_data = MNIST(root = './', train=False, download=True)\n",
    "\n",
    "train_input = train_data.data.view(-1, 1, 28, 28).float()\n",
    "train_target = train_data.targets \n",
    "test_input = test_data.data.view(-1, 1, 28, 28).float()\n",
    "test_target = test_data.targets \n",
    "\n",
    "train_input = train_input.clone().reshape(train_input.size(0), -1)\n",
    "test_input = test_input.clone().reshape(test_input.size(0), -1)\n",
    "\n",
    "train_input = train_input.narrow(0, 0, 1000)\n",
    "train_target = train_target.narrow(0, 0, 1000)\n",
    "test_input = test_input.narrow(0, 0, 1000)\n",
    "test_target = test_target.narrow(0, 0, 1000)\n",
    "\n",
    "train_target = 0.9*convert_to_one_hot_labels(train_input, train_target)\n",
    "test_target = 0.9*convert_to_one_hot_labels(test_input, test_target)\n",
    "\n",
    "mu, std = train_input.mean(), train_input.std()\n",
    "train_input = train_input.sub_(mu).div_(std)\n",
    "test_input = test_input.sub_(mu).div_(std)"
   ]
  },
  {
   "cell_type": "code",
   "execution_count": 85,
   "metadata": {},
   "outputs": [
    {
     "data": {
      "text/plain": [
       "(torch.Size([1000, 784]),\n",
       " torch.Size([1000, 10]),\n",
       " torch.Size([1000, 784]),\n",
       " torch.Size([1000, 10]))"
      ]
     },
     "execution_count": 85,
     "metadata": {},
     "output_type": "execute_result"
    }
   ],
   "source": [
    "train_input.shape, train_target.shape, test_input.shape, test_target.shape"
   ]
  },
  {
   "cell_type": "code",
   "execution_count": 74,
   "metadata": {},
   "outputs": [],
   "source": [
    "class Backpropagation:\n",
    "    def __init__(self,learning_rate=0.1,  eps=0.000001,iterations=1000):\n",
    "\n",
    "        self.learning_rate = learning_rate\n",
    "        self.eps = eps\n",
    "        self.iterations = iterations\n",
    "        \n",
    "    def sigma(self, x):\n",
    "        xx = torch.tanh(x)\n",
    "        return xx\n",
    "    \n",
    "    def dsigma(self, x):\n",
    "        dx = 1 - (self.sigma(x))**2\n",
    "        return dx\n",
    "    \n",
    "    def loss(self, v,t):\n",
    "\n",
    "        diff = torch.pow(v-t,2)\n",
    "        loss = torch.sum(diff)\n",
    "        return loss\n",
    "    \n",
    "    def dloss(self, v, t):\n",
    "        dloss = 2*(v-t)\n",
    "        return dloss\n",
    "        \n",
    "    def forward_pass(self, x, w1, w2, b1, b2):\n",
    "\n",
    "        x0 = x\n",
    "\n",
    "        s1 = torch.matmul(w1, x0) + b1\n",
    "        x1 = self.sigma(s1)\n",
    "        s2 = torch.matmul(w2,x1)+ b2\n",
    "        x2 = self.sigma(s2)\n",
    "        \n",
    "        return x0, s1, x1, s2, x2 \n",
    "    \n",
    "    def backward_pass(self,w1,b1,w2,b2,dw1, db1, dw2, db2, x, t):\n",
    "\n",
    "        x,s1,x1,s2,x2 = self.forward_pass(x, w1, w2, b1, b2)\n",
    "\n",
    "        dloss = self.dloss(x2,t)\n",
    "        ds2 = torch.mul(dloss, self.dsigma(s2))\n",
    "\n",
    "        dw2 += torch.mm(ds2, torch.t(x1))\n",
    "        db2 += ds2\n",
    "        \n",
    "        dx1 = torch.mm(torch.t(w2), ds2)\n",
    "        ds1 = torch.mul(dx1, self.dsigma(s1))\n",
    "        \n",
    "        dw1 += torch.mm(ds1, torch.t(x))\n",
    "        db1 += ds1\n",
    "          \n",
    "\n",
    "    def train(self, train, train_target, test, test_target,num_units = 50):\n",
    "\n",
    "        n_class = test_target.shape[1]\n",
    "        n_inputs = train.shape[1]\n",
    "\n",
    "        w1 = torch.empty(num_units, n_inputs).normal_(0, self.eps)\n",
    "        b1 = torch.zeros(num_units, 1).normal_(0, self.eps)\n",
    "        w2 = torch.empty(n_class, num_units).normal_(0, self.eps)\n",
    "\n",
    "        b2 = torch.zeros(n_class, 1).normal_(0, self.eps)\n",
    "        alpha = self.learning_rate/train.shape[0]\n",
    "\n",
    "        for i in range(self.iterations):\n",
    "            dw1 = torch.zeros(num_units, n_inputs)\n",
    "            db1 = torch.zeros(num_units, 1)\n",
    "            dw2 = torch.zeros(n_class, num_units)\n",
    "            db2 = torch.zeros(n_class, 1)\n",
    "\n",
    "            for index in range(train.shape[0]): # SGD\n",
    "                \n",
    "                x = train[index].resize_(train[index].shape[0], 1)\n",
    "                t = train_target[index].resize_(train_target[index].shape[0], 1)\n",
    "                \n",
    "                x0, s1, x1, s2, x2 = self.forward_pass(x, w1, w2, b1, b2)\n",
    "                self.backward_pass(w1,b1,w2,b2,dw1, db1, dw2, db2, x, t)\n",
    "                \n",
    "            w1 = w1 - alpha * dw1\n",
    "            w2 = w2 - alpha * dw2\n",
    "            b1 = b1 - alpha * db1\n",
    "            b2 = b2 - alpha * db2\n",
    "\n",
    "        print(\"Iteration {},Training error :{}\".format(i,self.compute_error(train, train_target, w1, b1, w2, b2)))\n",
    "        print(\"Iteration {}, Test error :{}\".format(i,self.compute_error(test, test_target, w1, b1, w2, b2)))\n",
    "        \n",
    "        return w1, w2, b1, b2, x2\n",
    "    \n",
    "\n",
    "    def compute_error(self, x, y, w1, b1, w2, b2):\n",
    "        \n",
    "        n = x.shape[0]\n",
    "        \n",
    "        error = 0\n",
    "        for i in range(n):\n",
    "            x = x[i].resize_(x[i].shape[0], 1)\n",
    "            target = torch.argmax(y[i])\n",
    "            \n",
    "            x,s1,x1,s2,x2 = self.forward_pass(x, w1, w2, b1, b2)\n",
    "            output = torch.argmax(x2, 0)\n",
    "            \n",
    "            if target != output:\n",
    "                error += 1\n",
    "                \n",
    "        return error/n      "
   ]
  },
  {
   "cell_type": "code",
   "execution_count": 75,
   "metadata": {},
   "outputs": [],
   "source": [
    "model = Backpropagation()"
   ]
  },
  {
   "cell_type": "code",
   "execution_count": 76,
   "metadata": {},
   "outputs": [
    {
     "name": "stdout",
     "output_type": "stream",
     "text": [
      "Iteration 999,Training error :0.003\n",
      "Iteration 999, Test error :0.156\n"
     ]
    }
   ],
   "source": [
    "w1, w2, b1, b2, predicted = model.train(train_input, train_target, test_input, test_target)"
   ]
  },
  {
   "cell_type": "code",
   "execution_count": 77,
   "metadata": {},
   "outputs": [
    {
     "data": {
      "text/plain": [
       "tensor([[ 0.0132],\n",
       "        [-0.1531],\n",
       "        [ 0.1216],\n",
       "        [-0.0800],\n",
       "        [ 0.0455],\n",
       "        [ 0.0343],\n",
       "        [ 0.8968],\n",
       "        [-0.0172],\n",
       "        [-0.0409],\n",
       "        [-0.0106]])"
      ]
     },
     "execution_count": 77,
     "metadata": {},
     "output_type": "execute_result"
    }
   ],
   "source": [
    "predicted"
   ]
  },
  {
   "cell_type": "code",
   "execution_count": 78,
   "metadata": {},
   "outputs": [
    {
     "data": {
      "text/plain": [
       "tensor([[-0.0012, -0.0012, -0.0012,  ..., -0.0012, -0.0012, -0.0012],\n",
       "        [ 0.0002,  0.0002,  0.0002,  ...,  0.0002,  0.0002,  0.0002],\n",
       "        [-0.0004, -0.0004, -0.0004,  ..., -0.0004, -0.0004, -0.0004],\n",
       "        ...,\n",
       "        [ 0.0056,  0.0056,  0.0056,  ...,  0.0056,  0.0056,  0.0056],\n",
       "        [-0.0028, -0.0028, -0.0028,  ..., -0.0028, -0.0028, -0.0028],\n",
       "        [ 0.0032,  0.0032,  0.0032,  ...,  0.0032,  0.0032,  0.0032]])"
      ]
     },
     "execution_count": 78,
     "metadata": {},
     "output_type": "execute_result"
    }
   ],
   "source": [
    "w1"
   ]
  },
  {
   "cell_type": "code",
   "execution_count": 80,
   "metadata": {},
   "outputs": [],
   "source": [
    "# b1"
   ]
  },
  {
   "cell_type": "code",
   "execution_count": null,
   "metadata": {},
   "outputs": [],
   "source": [
    "#w2"
   ]
  },
  {
   "cell_type": "code",
   "execution_count": null,
   "metadata": {},
   "outputs": [],
   "source": [
    "#b2"
   ]
  }
 ],
 "metadata": {
  "kernelspec": {
   "display_name": "Python 3",
   "language": "python",
   "name": "python3"
  },
  "language_info": {
   "codemirror_mode": {
    "name": "ipython",
    "version": 3
   },
   "file_extension": ".py",
   "mimetype": "text/x-python",
   "name": "python",
   "nbconvert_exporter": "python",
   "pygments_lexer": "ipython3",
   "version": "3.8.5"
  }
 },
 "nbformat": 4,
 "nbformat_minor": 4
}
