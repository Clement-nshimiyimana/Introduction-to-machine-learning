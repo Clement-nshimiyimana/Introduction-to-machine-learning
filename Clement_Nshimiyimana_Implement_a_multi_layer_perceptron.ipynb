{
 "cells": [
  {
   "cell_type": "code",
   "execution_count": 1,
   "metadata": {},
   "outputs": [],
   "source": [
    "import torch\n",
    "\n",
    "from torchvision import datasets, transforms as transform\n",
    "\n",
    "import argparse\n",
    "import os\n",
    "from dlc_practical_prologue import *\n",
    "import dlc_practical_prologue as prologue\n"
   ]
  },
  {
   "cell_type": "markdown",
   "metadata": {},
   "source": [
    "Load Data"
   ]
  },
  {
   "cell_type": "code",
   "execution_count": 3,
   "metadata": {},
   "outputs": [],
   "source": [
    "from torchvision.datasets import MNIST\n",
    "\n",
    "\n",
    "train_data = MNIST(root = './', train=True, download=True,)\n",
    "test_data = MNIST(root = './', train=False, download=True)\n",
    "\n",
    "train_input = train_data.data.view(-1, 1, 28, 28).float()\n",
    "train_target = train_data.targets \n",
    "test_input = test_data.data.view(-1, 1, 28, 28).float()\n",
    "test_target = test_data.targets \n",
    "\n",
    "train_input = train_input.clone().reshape(train_input.size(0), -1)\n",
    "test_input = test_input.clone().reshape(test_input.size(0), -1)\n",
    "\n",
    "train_input = train_input.narrow(0, 0, 1000)\n",
    "train_target = train_target.narrow(0, 0, 1000)\n",
    "test_input = test_input.narrow(0, 0, 1000)\n",
    "test_target = test_target.narrow(0, 0, 1000)\n",
    "\n",
    "train_target = 0.9*convert_to_one_hot_labels(train_input, train_target)\n",
    "test_target = 0.9*convert_to_one_hot_labels(test_input, test_target)\n",
    "\n",
    "mu, std = train_input.mean(), train_input.std()\n",
    "train_input = train_input.sub_(mu).div_(std)\n",
    "test_input = test_input.sub_(mu).div_(std)"
   ]
  },
  {
   "cell_type": "code",
   "execution_count": 4,
   "metadata": {},
   "outputs": [
    {
     "data": {
      "text/plain": [
       "(torch.Size([1000, 784]),\n",
       " torch.Size([1000, 10]),\n",
       " torch.Size([1000, 784]),\n",
       " torch.Size([1000, 10]))"
      ]
     },
     "execution_count": 4,
     "metadata": {},
     "output_type": "execute_result"
    }
   ],
   "source": [
    "train_input.shape, train_target.shape, test_input.shape, test_target.shape"
   ]
  },
  {
   "cell_type": "code",
   "execution_count": 52,
   "metadata": {},
   "outputs": [],
   "source": [
    "class Backpropagation:\n",
    "    def __init__(self,learning_rate=0.1,  eps=0.000001,iterations=1000):\n",
    "\n",
    "        self.learning_rate = learning_rate\n",
    "        self.eps = eps\n",
    "        self.iterations = iterations\n",
    "        \n",
    "    def sigma(self, x):\n",
    "        xx = torch.tanh(x)\n",
    "        return xx\n",
    "    \n",
    "    def dsigma(self, x):\n",
    "        dx = 1 - (self.sigma(x))**2\n",
    "        return dx\n",
    "    \n",
    "    def loss(self, v,t):\n",
    "\n",
    "        diff = torch.pow(v-t,2)\n",
    "        loss = torch.sum(diff)\n",
    "        return loss\n",
    "    \n",
    "    def dloss(self, v, t):\n",
    "        dloss = 2*(v-t)\n",
    "        return dloss\n",
    "        \n",
    "    def forward_pass(self, x, w1, w2, b1, b2):\n",
    "\n",
    "        x0 = x\n",
    "\n",
    "        s1 = torch.matmul(w1, x0) + b1\n",
    "        x1 = self.sigma(s1)\n",
    "        s2 = torch.matmul(w2,x1)+ b2\n",
    "        x2 = self.sigma(s2)\n",
    "        \n",
    "        return x0, s1, x1, s2, x2 \n",
    "    \n",
    "    def backward_pass(self,w1,b1,w2,b2,dw1, db1, dw2, db2, x, t):\n",
    "\n",
    "        x,s1,x1,s2,x2 = self.forward_pass(x, w1, w2, b1, b2)\n",
    "\n",
    "        dloss = self.dloss(x2,t)\n",
    "        ds2 = torch.mul(dloss, self.dsigma(s2))\n",
    "\n",
    "        dw2 += torch.mm(ds2, torch.t(x1))\n",
    "        db2 += ds2\n",
    "        \n",
    "        dx1 = torch.mm(torch.t(w2), ds2)\n",
    "        ds1 = torch.mul(dx1, self.dsigma(s1))\n",
    "        \n",
    "        dw1 += torch.mm(ds1, torch.t(x))\n",
    "        db1 += ds1\n",
    "          \n",
    "\n",
    "    def train(self, train, train_target, test, test_target,num_units = 50):\n",
    "\n",
    "        n_class = test_target.shape[1]\n",
    "        n_inputs = train.shape[1]\n",
    "\n",
    "        w1 = torch.empty(num_units, n_inputs).normal_(0, self.eps)\n",
    "        b1 = torch.zeros(num_units, 1).normal_(0, self.eps)\n",
    "        w2 = torch.empty(n_class, num_units).normal_(0, self.eps)\n",
    "\n",
    "        b2 = torch.zeros(n_class, 1).normal_(0, self.eps)\n",
    "        alpha = self.learning_rate/train.shape[0]\n",
    "\n",
    "        for i in range(self.iterations):\n",
    "            dw1 = torch.zeros(num_units, n_inputs)\n",
    "            db1 = torch.zeros(num_units, 1)\n",
    "            dw2 = torch.zeros(n_class, num_units)\n",
    "            db2 = torch.zeros(n_class, 1)\n",
    "\n",
    "            for index in range(train.shape[0]): # SGD\n",
    "                \n",
    "                x = train[index].resize_(train[index].shape[0], 1)\n",
    "                target = train_target[index].resize_(train_target[index].shape[0], 1)\n",
    "\n",
    "                \n",
    "                x0, s1, x1, s2, x2 = self.forward_pass(x, w1, w2, b1, b2)\n",
    "                                \n",
    "                self.backward_pass(w1,b1,w2,b2,dw1, db1, dw2, db2, x, target)\n",
    "                \n",
    "                t = torch.argmax(train_target[index])\n",
    "                test_error = self.mse_error(test_target,t)\n",
    "                \n",
    "                train_error = self.mse_error(x2,target)\n",
    "                \n",
    "            w1 = w1 - alpha * dw1\n",
    "            w2 = w2 - alpha * dw2\n",
    "            b1 = b1 - alpha * db1\n",
    "            b2 = b2 - alpha * db2\n",
    "\n",
    "        print(\"Iteration {},Training error :{}\".format(i,train_error))\n",
    "        print(\"Iteration {}, Test error :{}\".format(i,test_error))\n",
    "        \n",
    "        return w1, w2, b1, b2, x2\n",
    "    \n",
    "\n",
    "    def mse_error(self, v, t):\n",
    "        N = v.shape[0]\n",
    "        error = self.loss(v, t)\n",
    "                \n",
    "        return error/N      "
   ]
  },
  {
   "cell_type": "code",
   "execution_count": 53,
   "metadata": {},
   "outputs": [],
   "source": [
    "model = Backpropagation()"
   ]
  },
  {
   "cell_type": "code",
   "execution_count": 76,
   "metadata": {},
   "outputs": [
    {
     "name": "stdout",
     "output_type": "stream",
     "text": [
      "Iteration 999,Training error :0.003\n",
      "Iteration 999, Test error :0.156\n"
     ]
    }
   ],
   "source": [
    "w1, w2, b1, b2, predicted = model.train(train_input, train_target, test_input, test_target)"
   ]
  },
  {
   "cell_type": "code",
   "execution_count": 77,
   "metadata": {},
   "outputs": [
    {
     "data": {
      "text/plain": [
       "tensor([[ 0.0132],\n",
       "        [-0.1531],\n",
       "        [ 0.1216],\n",
       "        [-0.0800],\n",
       "        [ 0.0455],\n",
       "        [ 0.0343],\n",
       "        [ 0.8968],\n",
       "        [-0.0172],\n",
       "        [-0.0409],\n",
       "        [-0.0106]])"
      ]
     },
     "execution_count": 77,
     "metadata": {},
     "output_type": "execute_result"
    }
   ],
   "source": [
    "predicted"
   ]
  },
  {
   "cell_type": "code",
   "execution_count": 78,
   "metadata": {},
   "outputs": [
    {
     "data": {
      "text/plain": [
       "tensor([[-0.0012, -0.0012, -0.0012,  ..., -0.0012, -0.0012, -0.0012],\n",
       "        [ 0.0002,  0.0002,  0.0002,  ...,  0.0002,  0.0002,  0.0002],\n",
       "        [-0.0004, -0.0004, -0.0004,  ..., -0.0004, -0.0004, -0.0004],\n",
       "        ...,\n",
       "        [ 0.0056,  0.0056,  0.0056,  ...,  0.0056,  0.0056,  0.0056],\n",
       "        [-0.0028, -0.0028, -0.0028,  ..., -0.0028, -0.0028, -0.0028],\n",
       "        [ 0.0032,  0.0032,  0.0032,  ...,  0.0032,  0.0032,  0.0032]])"
      ]
     },
     "execution_count": 78,
     "metadata": {},
     "output_type": "execute_result"
    }
   ],
   "source": [
    "w1"
   ]
  },
  {
   "cell_type": "code",
   "execution_count": 56,
   "metadata": {},
   "outputs": [
    {
     "data": {
      "text/plain": [
       "tensor([[-9.7941e-04],\n",
       "        [ 6.6378e-04],\n",
       "        [ 1.6068e-03],\n",
       "        [ 1.2278e-03],\n",
       "        [ 8.6740e-05],\n",
       "        [ 2.1249e-02],\n",
       "        [ 1.3970e-03],\n",
       "        [-4.5742e-03],\n",
       "        [-3.7261e-03],\n",
       "        [ 1.6534e-03],\n",
       "        [ 1.8957e-03],\n",
       "        [ 1.5301e-03],\n",
       "        [-2.2284e-04],\n",
       "        [-3.6716e-03],\n",
       "        [-2.1197e-02],\n",
       "        [ 7.6263e-04],\n",
       "        [ 3.6787e-05],\n",
       "        [-2.7455e-02],\n",
       "        [-1.1525e-02],\n",
       "        [ 1.3799e-04],\n",
       "        [ 2.8993e-05],\n",
       "        [-2.4378e-02],\n",
       "        [ 5.1515e-03],\n",
       "        [-7.1115e-03],\n",
       "        [ 6.7252e-04],\n",
       "        [-5.2753e-03],\n",
       "        [-9.4676e-04],\n",
       "        [-1.4710e-03],\n",
       "        [-2.2612e-03],\n",
       "        [ 1.7205e-02],\n",
       "        [ 1.3336e-03],\n",
       "        [ 1.8563e-03],\n",
       "        [-6.7331e-03],\n",
       "        [ 3.1675e-03],\n",
       "        [ 1.3552e-03],\n",
       "        [ 2.5375e-03],\n",
       "        [-1.1230e-03],\n",
       "        [ 1.8233e-02],\n",
       "        [ 3.4418e-04],\n",
       "        [-9.1417e-03],\n",
       "        [ 5.5898e-04],\n",
       "        [ 9.4665e-03],\n",
       "        [-2.8957e-03],\n",
       "        [-2.6330e-02],\n",
       "        [-5.1544e-03],\n",
       "        [-3.9678e-03],\n",
       "        [ 1.7852e-02],\n",
       "        [ 5.8368e-04],\n",
       "        [-8.8101e-04],\n",
       "        [-9.5853e-04]])"
      ]
     },
     "execution_count": 56,
     "metadata": {},
     "output_type": "execute_result"
    }
   ],
   "source": [
    "b1"
   ]
  },
  {
   "cell_type": "code",
   "execution_count": 57,
   "metadata": {},
   "outputs": [
    {
     "data": {
      "text/plain": [
       "tensor([[ 9.8764e-03,  7.0765e-02, -2.6535e-02, -2.0309e-02,  1.1099e-02,\n",
       "         -2.3700e-01, -4.5591e-02,  3.2624e-03,  5.5564e-02, -3.1696e-03,\n",
       "         -8.2546e-02,  2.8472e-02, -2.1984e-02,  2.6050e-02, -9.0317e-02,\n",
       "         -2.3351e-02,  1.3918e-02, -5.8427e-02, -3.2789e-02, -5.0187e-02,\n",
       "          2.0885e-02,  3.8681e-02, -6.4214e-02,  8.1449e-02, -5.4389e-02,\n",
       "          1.2118e-01,  7.3901e-03,  2.6575e-02,  3.9146e-03,  7.7426e-02,\n",
       "         -2.6171e-02, -5.1215e-02,  3.9647e-02, -3.4904e-02,  2.8191e-02,\n",
       "          1.0338e-01,  7.1460e-03, -1.0774e-02,  3.2410e-03,  1.0983e-01,\n",
       "          9.7273e-02,  8.3466e-02,  1.1983e-02,  3.6453e-02,  7.1161e-02,\n",
       "         -1.2170e-02,  2.5634e-02,  4.5050e-02,  1.0045e-02,  2.5599e-02],\n",
       "        [ 8.4306e-04, -6.4482e-02, -5.8040e-02,  8.6422e-03,  3.9857e-03,\n",
       "         -8.0623e-03,  1.1235e-02, -3.2360e-02,  4.5917e-02, -1.0796e-02,\n",
       "         -2.5226e-02, -4.1605e-02, -7.3171e-04, -3.4806e-02,  1.3228e-01,\n",
       "         -3.6007e-03,  9.1834e-02, -6.5271e-02, -8.5306e-02,  8.2909e-03,\n",
       "         -5.1272e-02,  1.0850e-01,  1.9968e-02,  6.2458e-05,  6.2360e-02,\n",
       "          9.1647e-02, -3.9305e-02,  1.2256e-02, -4.2892e-02, -2.9979e-02,\n",
       "         -4.3539e-03,  5.2817e-02,  1.3299e-01, -2.1051e-02, -4.0031e-02,\n",
       "         -3.5117e-02, -1.1922e-02, -1.5564e-01, -1.0663e-02,  3.3603e-03,\n",
       "         -2.0742e-02,  1.1611e-01, -2.4364e-02,  1.5347e-01,  1.4042e-01,\n",
       "         -3.6654e-02, -1.4395e-01, -4.6676e-02,  4.2931e-02,  4.1513e-02],\n",
       "        [-1.0863e-02,  5.3376e-02, -5.4838e-02, -7.5388e-03, -9.5610e-04,\n",
       "         -3.4777e-02,  7.8523e-03,  2.3109e-02, -4.9756e-02,  3.9672e-02,\n",
       "          1.0904e-01,  2.7052e-02, -2.0270e-02,  1.4723e-02,  5.2701e-01,\n",
       "          5.8124e-02, -8.8516e-02, -8.3012e-03, -4.6905e-02, -2.2055e-02,\n",
       "         -2.4574e-02, -3.8439e-02,  3.1472e-02, -8.9510e-02, -5.4728e-02,\n",
       "         -7.0166e-02, -3.1938e-02, -1.1849e-02, -3.6605e-02,  9.0437e-02,\n",
       "         -2.7477e-02,  2.4716e-02, -1.1850e-02,  1.1093e-02, -1.7411e-02,\n",
       "          3.8944e-02, -1.3863e-02,  9.1987e-02, -3.8926e-02, -4.5145e-02,\n",
       "         -5.6826e-03, -1.3087e-02,  2.1919e-02, -1.9443e-01, -7.5490e-02,\n",
       "         -3.0526e-02,  1.7501e-01,  4.3643e-02, -3.7585e-02,  4.1183e-02],\n",
       "        [-7.7427e-03,  2.6909e-02, -1.3808e-02,  2.9740e-02, -1.1434e-02,\n",
       "          3.9637e-03,  3.8264e-02, -3.9105e-02, -4.9373e-02, -5.5975e-02,\n",
       "          9.0829e-02, -1.6450e-02, -7.6128e-03,  1.3077e-02, -1.6086e-01,\n",
       "         -6.9047e-03, -2.2349e-02, -4.4334e-03,  2.6200e-03,  1.8127e-03,\n",
       "          7.3038e-02, -6.9958e-02,  6.8738e-04, -1.1283e-01, -7.8921e-02,\n",
       "         -7.5834e-02,  2.8248e-02,  2.2875e-02,  4.3371e-02,  9.6690e-02,\n",
       "         -3.3560e-02, -2.8624e-02, -7.8208e-02,  8.7172e-03,  9.5913e-03,\n",
       "          3.3277e-02,  1.5489e-02,  2.5690e-02, -9.8228e-03, -3.8575e-02,\n",
       "         -3.6038e-02, -1.5312e-02, -3.9105e-02,  4.9386e-01, -7.7244e-02,\n",
       "         -2.3262e-02,  1.4594e-01, -4.0647e-02,  3.9653e-02,  2.5611e-02],\n",
       "        [-5.3968e-03, -1.8486e-02,  3.4171e-02, -5.1987e-03,  1.1384e-02,\n",
       "          6.1807e-03,  1.2112e-02,  2.6737e-02,  1.8846e-02, -2.4416e-02,\n",
       "          9.2393e-02,  1.0706e-02,  3.1896e-02,  4.7358e-02, -7.1109e-03,\n",
       "          1.6368e-02, -8.6039e-03,  2.8219e-01, -1.1545e-02,  3.6432e-02,\n",
       "         -7.5614e-02,  2.5962e-01, -3.4933e-02, -5.7714e-02,  1.9997e-02,\n",
       "          1.3545e-01,  4.7458e-03, -5.4497e-03,  3.6743e-02, -2.4674e-02,\n",
       "         -2.0478e-02, -2.6219e-02,  1.1514e-01,  7.6176e-04,  4.2990e-02,\n",
       "         -6.2230e-02,  6.9619e-03,  2.7030e-01,  8.8544e-03, -1.1226e-02,\n",
       "         -6.0739e-02,  2.0988e-01,  2.2821e-03, -1.0293e-02, -6.2838e-02,\n",
       "          5.8937e-02,  3.6122e-02,  3.6603e-04, -3.1601e-02, -3.7094e-02],\n",
       "        [ 2.0332e-02, -1.3486e-02,  4.1787e-02, -2.0704e-02,  2.0118e-02,\n",
       "          2.6294e-01, -7.0877e-02,  3.8836e-02, -1.2210e-02, -2.7678e-02,\n",
       "          8.4081e-02,  2.8805e-03, -3.1412e-03,  3.5816e-02, -9.0945e-03,\n",
       "          1.4606e-02,  1.1087e-01,  1.6143e-01, -1.2769e-01, -1.0270e-02,\n",
       "          6.7955e-02, -1.0736e-01, -6.8543e-03,  3.4331e-01, -1.1293e-01,\n",
       "         -1.2713e-01,  8.4787e-03,  2.5210e-02, -8.2605e-02, -1.3400e-01,\n",
       "         -2.0745e-02,  1.7350e-02,  4.0648e-02, -1.5506e-02, -2.6878e-02,\n",
       "         -4.2319e-02,  2.2432e-02, -1.4265e-01, -4.5473e-04, -9.4685e-02,\n",
       "          6.4071e-03, -1.7135e-02,  1.6521e-02, -1.4734e-01,  2.9207e-02,\n",
       "          1.3599e-01, -1.8155e-03,  4.7020e-02,  2.6039e-02,  5.1193e-03],\n",
       "        [ 4.8224e-02,  1.1490e-01,  1.3343e-02, -2.7693e-02,  2.4616e-02,\n",
       "          1.1791e-02, -2.9251e-02,  7.3305e-03, -3.5920e-02,  5.8451e-03,\n",
       "         -7.8134e-02, -5.0059e-02,  1.7827e-02, -9.1959e-04, -9.8328e-02,\n",
       "          9.2600e-02,  2.0302e-03, -1.5260e-01,  1.8066e-01,  2.3072e-02,\n",
       "         -7.7692e-02,  7.1413e-02, -4.0491e-02,  3.0517e-04,  6.6567e-02,\n",
       "         -9.0756e-02, -2.7584e-02,  9.6815e-03,  5.2923e-02, -2.8445e-02,\n",
       "          2.4397e-02, -5.0820e-02, -1.7020e-01,  3.5757e-02,  9.6978e-03,\n",
       "          2.9417e-02,  4.4249e-03, -1.8325e-01,  4.6330e-03, -2.5444e-02,\n",
       "         -1.0780e-02, -5.3959e-02, -1.4902e-02, -4.0113e-02, -1.0823e-01,\n",
       "         -8.5150e-03, -4.4888e-02,  5.7547e-02, -1.0848e-02,  1.7416e-02],\n",
       "        [-1.2311e-02,  8.1526e-02,  3.4405e-02, -3.7665e-02,  4.4120e-02,\n",
       "          1.6731e-02,  3.0401e-02, -4.7328e-02, -7.0688e-02,  6.8849e-03,\n",
       "          6.3246e-02,  1.3290e-02, -1.7285e-02, -4.5284e-02, -1.5344e-01,\n",
       "         -5.3067e-02, -4.7741e-02,  5.8369e-02, -2.5758e-02, -1.3251e-02,\n",
       "         -3.8353e-02, -5.0902e-02, -1.0787e-02, -6.2842e-02, -3.6434e-03,\n",
       "         -3.9783e-02, -2.5042e-02, -3.3937e-02, -3.1266e-02,  1.0212e-01,\n",
       "          5.1834e-03, -4.4988e-03, -6.3065e-02, -8.5960e-02, -1.5474e-02,\n",
       "         -1.5163e-02,  2.0702e-02,  6.6394e-02,  1.4034e-02, -1.3888e-02,\n",
       "          7.0056e-03, -7.3080e-02,  6.5586e-03, -1.7278e-01, -7.4384e-02,\n",
       "         -2.2155e-05, -4.9087e-01, -5.1092e-02,  1.0040e-03, -2.2122e-02],\n",
       "        [ 1.7494e-02, -1.3901e-01,  2.9193e-02, -1.8319e-03, -3.5168e-03,\n",
       "         -4.8633e-02,  5.0659e-02,  8.5645e-03,  4.8508e-02, -1.1644e-02,\n",
       "         -1.4851e-01,  2.6545e-02,  6.3358e-03,  5.4175e-02, -1.5953e-01,\n",
       "         -7.9593e-02, -9.3715e-02,  3.6180e-02, -1.5355e-01, -1.5348e-02,\n",
       "          1.0623e-01,  9.9748e-03,  6.3321e-02, -8.5437e-02,  1.9152e-01,\n",
       "         -5.0876e-02, -3.1685e-02,  8.4693e-03,  8.7836e-02, -8.6037e-02,\n",
       "          1.0508e-02,  9.0980e-02, -1.8612e-01,  3.3912e-04, -3.4408e-02,\n",
       "         -7.7578e-02,  7.3819e-03,  9.2989e-02, -2.1997e-02,  9.5433e-02,\n",
       "         -4.7276e-03, -2.7384e-03, -8.3371e-03, -1.2059e-01, -1.5137e-02,\n",
       "         -6.3586e-02, -8.6633e-03,  2.0494e-02, -4.1271e-02,  1.4648e-02],\n",
       "        [ 6.5758e-03, -1.5352e-01,  1.8010e-02, -7.1940e-03,  2.4228e-02,\n",
       "         -2.7851e-03,  5.4680e-02, -2.5604e-02, -1.8370e-02, -2.3423e-02,\n",
       "          8.4490e-03,  4.9925e-02, -1.4221e-02, -5.3292e-03,  7.2928e-02,\n",
       "         -5.1421e-03,  3.7389e-02, -2.5792e-01,  3.1003e-01,  2.4367e-02,\n",
       "          4.6923e-03, -1.9511e-01,  2.3945e-02,  5.5310e-02, -1.6736e-02,\n",
       "          1.3809e-01,  1.0914e-03, -4.2044e-03,  4.2448e-03, -1.2453e-01,\n",
       "         -7.8216e-04, -2.8207e-02,  1.8276e-01, -1.2682e-02,  1.3049e-02,\n",
       "          2.4488e-02, -1.9743e-02, -6.6474e-02,  3.2429e-02, -1.2501e-02,\n",
       "         -2.5908e-02, -1.9044e-01,  5.7573e-03,  2.6042e-02,  1.4996e-01,\n",
       "         -5.6368e-02,  2.2139e-01, -1.3175e-02, -6.1409e-02, -5.6677e-02]])"
      ]
     },
     "execution_count": 57,
     "metadata": {},
     "output_type": "execute_result"
    }
   ],
   "source": [
    "w2"
   ]
  },
  {
   "cell_type": "code",
   "execution_count": 58,
   "metadata": {},
   "outputs": [
    {
     "data": {
      "text/plain": [
       "tensor([[ 0.2388],\n",
       "        [ 0.2808],\n",
       "        [ 0.1568],\n",
       "        [ 0.1602],\n",
       "        [ 0.1039],\n",
       "        [ 0.1512],\n",
       "        [ 0.1858],\n",
       "        [ 0.2315],\n",
       "        [-0.2235],\n",
       "        [ 0.0796]])"
      ]
     },
     "execution_count": 58,
     "metadata": {},
     "output_type": "execute_result"
    }
   ],
   "source": [
    "b2"
   ]
  },
  {
   "cell_type": "code",
   "execution_count": null,
   "metadata": {},
   "outputs": [],
   "source": []
  }
 ],
 "metadata": {
  "kernelspec": {
   "display_name": "Python 3",
   "language": "python",
   "name": "python3"
  },
  "language_info": {
   "codemirror_mode": {
    "name": "ipython",
    "version": 3
   },
   "file_extension": ".py",
   "mimetype": "text/x-python",
   "name": "python",
   "nbconvert_exporter": "python",
   "pygments_lexer": "ipython3",
   "version": "3.8.5"
  }
 },
 "nbformat": 4,
 "nbformat_minor": 4
}
